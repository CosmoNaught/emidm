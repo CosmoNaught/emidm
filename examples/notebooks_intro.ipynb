{
 "cells": [
  {
   "cell_type": "markdown",
   "metadata": {},
   "source": [
    "## Introduction to Jupyter and Colab Notebooks\n",
    "\n",
    "Jupyter Notebooks and Google Colab are interactive computing environments widely used for data analysis, machine learning, and programming tutorials. Both platforms allow you to combine code, visualisations, explanatory text, and equations in one document, enhancing clarity, reproducibility, and collaboration."
   ]
  },
  {
   "cell_type": "markdown",
   "metadata": {},
   "source": [
    "### What is a Notebook?\n",
    "\n",
    "A notebook is a special file format (with a `.ipynb` extension) that stores not only the **code** but also the **outputs** of that code (such as plots, tables, and text), as well as any **markdown-formatted explanations**. Under the hood, it’s a JSON document that wraps code, output, and metadata in a structured format, often rendered as HTML when viewed in a browser (e.g. on GitHub). This allows you to view the outputs of a notebook—even without running the code—when it's shared online.\n",
    "\n",
    "### Run Order Matters\n",
    "\n",
    "One important aspect of working with notebooks is that cells can be executed in **any order**, and their outputs are stored until cleared or overwritten. This means a notebook can appear to \"work\" even when the code is run out of sequence or relies on prior cell execution that hasn’t happened in a fresh session. Always restart the kernel and run all cells in order to ensure reproducibility."
   ]
  },
  {
   "cell_type": "markdown",
   "metadata": {},
   "source": [
    "### Getting Started\n",
    "\n",
    "- **Jupyter Notebook**: Typically runs locally on your computer via Anaconda or through a cloud service.\n",
    "- **Google Colab**: Runs entirely online in your browser via Google’s infrastructure, providing easy access without setup.\n",
    "\n",
    "### Key Components of the Notebook Interface\n",
    "\n",
    "- **Cells**: Notebooks consist of cells that hold either:\n",
    "  - **Code** (Python, R, etc.)\n",
    "  - **Markdown** (formatted text)\n",
    "\n",
    "- **Toolbar**: Located at the top, contains essential buttons:\n",
    "  - **Run Cell** ▶️ to execute the current cell.\n",
    "  - **Add Cell** ➕ to insert a new cell.\n",
    "  - **Cell Type** drop-down to switch between Code and Markdown.\n",
    "\n",
    "- **File Explorer (Jupyter)**: On the left, navigate files and folders.\n",
    "- **Sidebar (Colab)**: On the left, access files, data, or settings.\n",
    "\n",
    "### Code Cells\n",
    "\n",
    "Code cells can be interespersed with markdown cells (similar to mixed text and code chunks in Rmd or Quarto), such as below where we have a python code cell. "
   ]
  },
  {
   "cell_type": "code",
   "execution_count": null,
   "metadata": {},
   "outputs": [],
   "source": [
    "a = 1\n",
    "b = 2\n",
    "a*b"
   ]
  },
  {
   "cell_type": "markdown",
   "metadata": {},
   "source": [
    "\n",
    "### Changing Runtime Type in Colab (GPUs and TPUs)\n",
    "\n",
    "Google Colab allows users to leverage GPU or TPU resources for computationally intensive tasks such as deep learning. To enable GPU or TPU:\n",
    "\n",
    "1. Navigate to **Runtime** > **Change runtime type**.\n",
    "2. Select the hardware accelerator (GPU or TPU) from the dropdown menu.\n",
    "3. Click **Save** to confirm your selection.\n",
    "\n",
    "After you click save, your runtime is reloaded so your active session, variables and environment will be lost. \n",
    "\n",
    "> You can check this by adding a code cell below and seeing if `a` and `b` still exist"
   ]
  },
  {
   "cell_type": "markdown",
   "metadata": {},
   "source": [
    "### Saving and Managing Files in Colab\n",
    "\n",
    "Google Colab provides seamless integration with Google Drive and GitHub, allowing users to efficiently manage and store notebooks:\n",
    "\n",
    "- **Saving to Google Drive**:\n",
    "  - Automatically saves your notebooks to Google Drive in a dedicated \"Colab Notebooks\" folder.\n",
    "  - You can manually save copies by selecting **File** > **Save a copy in Drive**.\n",
    "\n",
    "- **Integration with GitHub**:\n",
    "  - Colab allows direct loading of notebooks from GitHub repositories via **File** > **Open notebook** > **GitHub**.\n",
    "  - You can save your notebook back to GitHub by selecting **File** > **Save a copy in GitHub** (authentication required)."
   ]
  },
  {
   "cell_type": "markdown",
   "metadata": {},
   "source": [
    "### Common Keyboard Shortcuts\n",
    "\n",
    "Mastering keyboard shortcuts significantly boosts productivity:\n",
    "\n",
    "| Action                      | Jupyter Shortcut      | Colab Shortcut                |\n",
    "|-----------------------------|-----------------------|-------------------------------|\n",
    "| **Run Cell**                | `Shift + Enter`       | `Shift + Enter`               |\n",
    "| **Add Cell Below**          | `B` (in command mode) | `Ctrl + M`, then `B`          |\n",
    "| **Add Cell Above**          | `A` (in command mode) | `Ctrl + M`, then `A`          |\n",
    "| **Delete Cell**             | `D, D`                | `Ctrl + M`, then `D`          |\n",
    "| **Convert Cell to Markdown**| `M`                   | `Ctrl + M`, then `M`          |\n",
    "| **Convert Cell to Code**    | `Y`                   | `Ctrl + M`, then `Y`          |\n",
    "| **Interrupt Execution**     | `I, I`                | `Ctrl + M`, then `I`          |\n",
    "| **Help**                    | `H`                   | `Ctrl + M`, then `H`          |\n",
    "\n",
    "*Note*: Colab requires first pressing `Ctrl + M` to activate shortcuts."
   ]
  },
  {
   "cell_type": "markdown",
   "metadata": {},
   "source": [
    "### Example Code Cell: Plotting the Iris Dataset\n",
    "\n",
    "Here is a simple example using `numpy`, `pandas`, and `matplotlib` to plot the famous Iris dataset:\n",
    "\n",
    "Run the cell below using `Shift + Enter` to execute it and render the plot directly beneath the code."
   ]
  },
  {
   "cell_type": "code",
   "execution_count": null,
   "metadata": {},
   "outputs": [],
   "source": [
    "import pandas as pd\n",
    "import numpy as np\n",
    "import matplotlib.pyplot as plt\n",
    "from sklearn.datasets import load_iris\n",
    "\n",
    "# Load the Iris dataset\n",
    "iris = load_iris()\n",
    "df = pd.DataFrame(data=iris.data, columns=iris.feature_names)\n",
    "df[\"species\"] = iris.target\n",
    "\n",
    "# Plot sepal length vs. sepal width\n",
    "plt.figure(figsize=(8, 6))\n",
    "for species_id, species_name in enumerate(iris.target_names):\n",
    "    subset = df[df[\"species\"] == species_id]\n",
    "    plt.scatter(subset.iloc[:, 0], subset.iloc[:, 1], label=species_name)\n",
    "\n",
    "plt.xlabel(\"Sepal Length (cm)\")\n",
    "plt.ylabel(\"Sepal Width (cm)\")\n",
    "plt.title(\"Iris Dataset - Sepal Dimensions\")\n",
    "plt.legend()\n",
    "plt.grid(True)\n",
    "plt.show()"
   ]
  },
  {
   "cell_type": "markdown",
   "metadata": {},
   "source": [
    "### Best Practices\n",
    "\n",
    "- Regularly **save** your notebook (`Ctrl + S` or Command + S).\n",
    "- Frequently **restart** kernels (Runtime > Restart in Colab; Kernel > Restart in Jupyter) to clear memory and prevent issues.\n",
    "- Clearly document code with Markdown cells.\n",
    "- Use cells for modular coding and step-by-step debugging.\n",
    "- Use **Run all cells** (from the menu) to ensure reproducibility before sharing.\n",
    "\n",
    "### Additional Resources\n",
    "\n",
    "- Jupyter documentation: [https://jupyter.org/documentation](https://jupyter.org/documentation)\n",
    "- Colab guide: [https://colab.research.google.com/notebooks/welcome.ipynb](https://colab.research.google.com/notebooks/welcome.ipynb)\n"
   ]
  }
 ],
 "metadata": {
  "language_info": {
   "name": "python"
  }
 },
 "nbformat": 4,
 "nbformat_minor": 2
}
